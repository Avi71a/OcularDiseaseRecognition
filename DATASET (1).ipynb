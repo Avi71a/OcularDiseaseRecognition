{
  "cells": [
    {
      "cell_type": "code",
      "execution_count": 2,
      "metadata": {
        "id": "bW7a3WHjjZqQ"
      },
      "outputs": [],
      "source": [
        "import os #for operation on single file\n",
        "import random #for generating random numbers\n",
        "import shutil # for operation on collection of files\n",
        "import numpy as np\n",
        "from shutil import copyfile\n",
        "from PIL import Image #to import the images\n",
        "%matplotlib inline\n",
        "import matplotlib.image as mpimg\n",
        "import matplotlib.pyplot as plt\n",
        "from sklearn.model_selection import train_test_split\n",
        "from sklearn.metrics import confusion_matrix\n",
        "import math\n",
        "from keras.utils.np_utils import to_categorical  #for coverting into one hot encoding\n",
        "from keras.models import Sequential \n",
        "from keras.layers import Dense, Dropout, Flatten, Conv2D, MaxPool2D\n",
        "from tensorflow.keras.optimizers import Adam\n",
        "import tensorflow as tf\n",
        "#from google.colab import files\n",
        "from keras.preprocessing import image\n",
        "from tensorflow.keras.preprocessing.image import ImageDataGenerator #for augemtation of images like left rotate, right rotate\n",
        " \n",
        "  \n"
      ]
    },
    {
      "cell_type": "code",
      "execution_count": 3,
      "metadata": {
        "id": "54_AM36pj_Wd"
      },
      "outputs": [],
      "source": [
        "test_dir = '/content/drive/MyDrive/DATASET_101/Test'\n",
        "train_dir = '/content/drive/MyDrive/DATASET_101/Train'"
      ]
    },
    {
      "cell_type": "code",
      "execution_count": 4,
      "metadata": {
        "id": "rKFv-dGvkytW"
      },
      "outputs": [],
      "source": [
        "batch_size =128\n",
        "img_height, img_width = 224,224"
      ]
    },
    {
      "cell_type": "code",
      "execution_count": 5,
      "metadata": {
        "id": "JdhDb5dElEJd"
      },
      "outputs": [],
      "source": [
        "input_shape = (img_height, img_width, 3)"
      ]
    },
    {
      "cell_type": "code",
      "execution_count": 6,
      "metadata": {
        "id": "aENNYkHPlTyO"
      },
      "outputs": [],
      "source": [
        "random_seed = np.random.seed(1142)  #to generate random number\n",
        "\n",
        "train_datagen = ImageDataGenerator(\n",
        "    rescale =1. /225,\n",
        "    validation_split = 0.20,  #validation dataset 20% of data\n",
        "    zoom_range = 0.2,\n",
        "    shear_range = 0.2,\n",
        ")"
      ]
    },
    {
      "cell_type": "code",
      "execution_count": 7,
      "metadata": {
        "colab": {
          "base_uri": "https://localhost:8080/"
        },
        "id": "UMrYsSFClUgj",
        "outputId": "08ec85b3-d383-4099-f12b-6521c3bcd4e3"
      },
      "outputs": [
        {
          "output_type": "stream",
          "name": "stdout",
          "text": [
            "Found 1144 images belonging to 5 classes.\n"
          ]
        }
      ],
      "source": [
        "train_generator = train_datagen.flow_from_directory(\n",
        "    train_dir,\n",
        "    target_size= (img_height, img_width),\n",
        "    batch_size = batch_size,\n",
        "    seed = random_seed,\n",
        "    shuffle= True,\n",
        "    subset ='training',\n",
        "    class_mode = 'categorical'\n",
        ")"
      ]
    },
    {
      "cell_type": "code",
      "execution_count": 8,
      "metadata": {
        "colab": {
          "base_uri": "https://localhost:8080/"
        },
        "id": "w18Lw_Lvl2oE",
        "outputId": "064fbf80-875d-4218-a1c6-ef27964c294a"
      },
      "outputs": [
        {
          "output_type": "stream",
          "name": "stdout",
          "text": [
            "Found 285 images belonging to 5 classes.\n"
          ]
        }
      ],
      "source": [
        "validation_generator = train_datagen.flow_from_directory(\n",
        "    train_dir,\n",
        "    target_size= (img_height, img_width),\n",
        "    batch_size = batch_size,\n",
        "    seed = random_seed,\n",
        "    shuffle= False,\n",
        "    subset ='validation',\n",
        "    class_mode = 'categorical'\n",
        ")"
      ]
    },
    {
      "cell_type": "code",
      "execution_count": 9,
      "metadata": {
        "colab": {
          "base_uri": "https://localhost:8080/"
        },
        "id": "Gus088HxmGM4",
        "outputId": "50a7e22e-cc81-437d-8b12-c001b05f019f"
      },
      "outputs": [
        {
          "output_type": "stream",
          "name": "stdout",
          "text": [
            "Found 395 images belonging to 5 classes.\n"
          ]
        }
      ],
      "source": [
        "test_datagen = ImageDataGenerator(rescale=1. /255 )\n",
        "test_generator = train_datagen.flow_from_directory(\n",
        "    test_dir,\n",
        "    target_size= (img_height, img_width),\n",
        "    batch_size = batch_size,\n",
        "    seed = random_seed,\n",
        "    shuffle= False,\n",
        "    class_mode = 'categorical'\n",
        ")"
      ]
    },
    {
      "cell_type": "code",
      "execution_count": 10,
      "metadata": {
        "id": "zbeAUHgomJLi"
      },
      "outputs": [],
      "source": [
        "nb_train_samples =len(train_generator.filenames) #number of train samples\n",
        "nb_validation_samples =len(validation_generator.filenames)\n",
        "nb_test_samples =len(test_generator.filenames)"
      ]
    },
    {
      "cell_type": "code",
      "execution_count": 11,
      "metadata": {
        "id": "8UKb5QF8mZhi"
      },
      "outputs": [],
      "source": [
        "num_classes = len(train_generator.class_indices)"
      ]
    },
    {
      "cell_type": "code",
      "execution_count": 12,
      "metadata": {
        "colab": {
          "base_uri": "https://localhost:8080/"
        },
        "id": "jBJBt_3lmhFK",
        "outputId": "7c8253aa-46f4-48dc-c46c-e7eea9aa41d9"
      },
      "outputs": [
        {
          "output_type": "stream",
          "name": "stdout",
          "text": [
            "nb_train_samples: 1144\n",
            "nb_validation_samples: 285\n",
            "nb_test_samples: 395\n",
            "\n",
            " num_classes: 5\n"
          ]
        }
      ],
      "source": [
        "print(\"nb_train_samples:\",nb_train_samples)\n",
        "print(\"nb_validation_samples:\",nb_validation_samples)\n",
        "print(\"nb_test_samples:\",nb_test_samples)\n",
        "print(\"\\n num_classes:\",num_classes)"
      ]
    },
    {
      "cell_type": "code",
      "execution_count": 13,
      "metadata": {
        "colab": {
          "base_uri": "https://localhost:8080/",
          "height": 393
        },
        "id": "tzcHQc5um316",
        "outputId": "f1bd966e-b851-400a-ce8d-2d2e46a1a71c"
      },
      "outputs": [
        {
          "output_type": "display_data",
          "data": {
            "text/plain": [
              "<Figure size 576x432 with 1 Axes>"
            ],
            "image/png": "[encoded data removed]"
          },
          "metadata": {
            "needs_background": "light"
          }
        }
      ],
      "source": [
        "plt.figure(figsize=(8,6))\n",
        "plt.bar([\"train_generator\", \"validation_generator\", \"test_generator\"], [nb_train_samples, nb_validation_samples, nb_test_samples], color=[\"maroon\", \"cyan\",\"seagreen\"], width=0.4 )\n",
        "plt.xlabel('Data')\n",
        "plt.ylabel('Numbers')\n",
        "plt.show()"
      ]
    },
    {
      "cell_type": "markdown",
      "metadata": {
        "id": "qwTDzX4tnKkN"
      },
      "source": [
        "**CNN IMPLIMENTATION**"
      ]
    },
    {
      "cell_type": "code",
      "execution_count": 14,
      "metadata": {
        "colab": {
          "base_uri": "https://localhost:8080/"
        },
        "id": "OKHyhCfgm5B6",
        "outputId": "e77c898e-78ef-44a7-e396-d6e9c8e851f7"
      },
      "outputs": [
        {
          "output_type": "stream",
          "name": "stdout",
          "text": [
            "Model: \"sequential\"\n",
            "_________________________________________________________________\n",
            " Layer (type)                Output Shape              Param #   \n",
            "=================================================================\n",
            " conv2d (Conv2D)             (None, 224, 224, 32)      896       \n",
            "                                                                 \n",
            " max_pooling2d (MaxPooling2D  (None, 112, 112, 32)     0         \n",
            " )                                                               \n",
            "                                                                 \n",
            " dropout (Dropout)           (None, 112, 112, 32)      0         \n",
            "                                                                 \n",
            " conv2d_1 (Conv2D)           (None, 112, 112, 64)      18496     \n",
            "                                                                 \n",
            " max_pooling2d_1 (MaxPooling  (None, 56, 56, 64)       0         \n",
            " 2D)                                                             \n",
            "                                                                 \n",
            " dropout_1 (Dropout)         (None, 56, 56, 64)        0         \n",
            "                                                                 \n",
            " flatten (Flatten)           (None, 200704)            0         \n",
            "                                                                 \n",
            " dense (Dense)               (None, 200)               40141000  \n",
            "                                                                 \n",
            " dropout_2 (Dropout)         (None, 200)               0         \n",
            "                                                                 \n",
            " dense_1 (Dense)             (None, 5)                 1005      \n",
            "                                                                 \n",
            "=================================================================\n",
            "Total params: 40,161,397\n",
            "Trainable params: 40,161,397\n",
            "Non-trainable params: 0\n",
            "_________________________________________________________________\n"
          ]
        }
      ],
      "source": [
        "model=Sequential()\n",
        "model.add(Conv2D(filters=32, kernel_size = (3,3), padding='Same', activation ='relu', input_shape=(img_height, img_width, 3) ))\n",
        "model.add(MaxPool2D(pool_size=(2,2), strides=2))\n",
        "model.add(Dropout(0.1))\n",
        "model.add(Conv2D(filters=64, kernel_size = (3,3), padding='Same', activation ='relu'))\n",
        "model.add(MaxPool2D(pool_size=(2,2), strides=2))\n",
        "model.add(Dropout(0.1))\n",
        "model.add(Flatten())\n",
        "model.add(Dense(200, activation='relu'))\n",
        "model.add(Dropout(0.25))\n",
        "model.add(Dense(5, activation='softmax'))\n",
        "\n",
        "    \n",
        "\n",
        "\n",
        "\n",
        "\n",
        "\n",
        "model.compile(optimizer='adam', loss ='categorical_crossentropy', metrics=['accuracy'])\n",
        "\n",
        "model.summary()"
      ]
    },
    {
      "cell_type": "code",
      "execution_count": 15,
      "metadata": {
        "colab": {
          "base_uri": "https://localhost:8080/"
        },
        "id": "dyoVp_mKl7H6",
        "outputId": "500412c0-b690-497b-9c26-286d9a989bc6"
      },
      "outputs": [
        {
          "output_type": "stream",
          "name": "stderr",
          "text": [
            "/usr/local/lib/python3.7/dist-packages/keras/optimizer_v2/adam.py:105: UserWarning: The `lr` argument is deprecated, use `learning_rate` instead.\n",
            "  super(Adam, self).__init__(name, **kwargs)\n"
          ]
        }
      ],
      "source": [
        "batch_size= 100\n",
        "epochs=120\n",
        "learn_rate=.001\n",
        "#gd=SGD(lr=learn_rate,momentum=.9,nesterov=False)\n",
        "adam=Adam(lr=learn_rate, beta_1=0.9, beta_2=0.999, epsilon=None, decay=0.0, amsgrad=False)\n",
        "model.compile(optimizer=adam,loss='categorical_crossentropy',metrics=['accuracy'])\n"
      ]
    },
    {
      "cell_type": "code",
      "execution_count": 16,
      "metadata": {
        "colab": {
          "base_uri": "https://localhost:8080/",
          "height": 1000
        },
        "id": "7xHF8KjFoVsq",
        "outputId": "b2a3766f-6d03-4e48-bf09-db8ff79dc998"
      },
      "outputs": [
        {
          "output_type": "execute_result",
          "data": {
            "text/plain": [
              "<IPython.core.display.Image object>"
            ],
            "image/png": "[encoded data removed]"
          },
          "metadata": {},
          "execution_count": 16
        }
      ],
      "source": [
        "from tensorflow.keras.utils import plot_model\n",
        "plot_model (model, show_shapes= True, expand_nested = True, dpi = 80 )"
      ]
    },
    {
      "cell_type": "code",
      "execution_count": null,
      "metadata": {
        "colab": {
          "base_uri": "https://localhost:8080/"
        },
        "id": "DIrSJxd5odeJ",
        "outputId": "fce04eb7-e4fb-461e-da4b-d8f50496cced"
      },
      "outputs": [
        {
          "output_type": "stream",
          "name": "stderr",
          "text": [
            "/usr/local/lib/python3.7/dist-packages/ipykernel_launcher.py:1: UserWarning: `Model.fit_generator` is deprecated and will be removed in a future version. Please use `Model.fit`, which supports generators.\n",
            "  \"\"\"Entry point for launching an IPython kernel.\n"
          ]
        },
        {
          "output_type": "stream",
          "name": "stdout",
          "text": [
            "Epoch 1/120\n",
            "9/9 [==============================] - 374s 41s/step - loss: 4.1102 - accuracy: 0.5288 - val_loss: 0.8322 - val_accuracy: 0.7439\n",
            "Epoch 2/120\n",
            "9/9 [==============================] - 81s 9s/step - loss: 0.6520 - accuracy: 0.7771 - val_loss: 0.6197 - val_accuracy: 0.7544\n",
            "Epoch 3/120\n",
            "9/9 [==============================] - 80s 9s/step - loss: 0.5125 - accuracy: 0.7867 - val_loss: 0.6023 - val_accuracy: 0.7474\n",
            "Epoch 4/120\n",
            "9/9 [==============================] - 80s 9s/step - loss: 0.4602 - accuracy: 0.8129 - val_loss: 0.4995 - val_accuracy: 0.7579\n",
            "Epoch 5/120\n",
            "9/9 [==============================] - 81s 9s/step - loss: 0.4483 - accuracy: 0.8103 - val_loss: 0.5826 - val_accuracy: 0.7474\n",
            "Epoch 6/120\n",
            "9/9 [==============================] - 79s 9s/step - loss: 0.4568 - accuracy: 0.8086 - val_loss: 0.5057 - val_accuracy: 0.7789\n",
            "Epoch 7/120\n",
            "9/9 [==============================] - 81s 9s/step - loss: 0.4263 - accuracy: 0.8226 - val_loss: 0.5018 - val_accuracy: 0.7649\n",
            "Epoch 8/120\n",
            "9/9 [==============================] - 79s 9s/step - loss: 0.4087 - accuracy: 0.8365 - val_loss: 0.4698 - val_accuracy: 0.7684\n",
            "Epoch 9/120\n",
            "9/9 [==============================] - 81s 9s/step - loss: 0.4019 - accuracy: 0.8383 - val_loss: 0.4769 - val_accuracy: 0.7789\n",
            "Epoch 10/120\n",
            "9/9 [==============================] - 79s 9s/step - loss: 0.4014 - accuracy: 0.8217 - val_loss: 0.4457 - val_accuracy: 0.7965\n",
            "Epoch 11/120\n",
            "9/9 [==============================] - 81s 9s/step - loss: 0.4260 - accuracy: 0.8173 - val_loss: 0.4954 - val_accuracy: 0.7789\n",
            "Epoch 12/120\n",
            "9/9 [==============================] - 79s 9s/step - loss: 0.4170 - accuracy: 0.8147 - val_loss: 0.4799 - val_accuracy: 0.7649\n",
            "Epoch 13/120\n",
            "9/9 [==============================] - 80s 9s/step - loss: 0.3753 - accuracy: 0.8278 - val_loss: 0.4651 - val_accuracy: 0.7579\n",
            "Epoch 14/120\n",
            "9/9 [==============================] - 79s 9s/step - loss: 0.3763 - accuracy: 0.8409 - val_loss: 0.4697 - val_accuracy: 0.7754\n",
            "Epoch 15/120\n",
            "9/9 [==============================] - 79s 9s/step - loss: 0.3778 - accuracy: 0.8409 - val_loss: 0.4700 - val_accuracy: 0.7509\n",
            "Epoch 16/120\n",
            "9/9 [==============================] - 80s 9s/step - loss: 0.3665 - accuracy: 0.8523 - val_loss: 0.4733 - val_accuracy: 0.7649\n",
            "Epoch 17/120\n",
            "9/9 [==============================] - 79s 9s/step - loss: 0.3629 - accuracy: 0.8566 - val_loss: 0.4861 - val_accuracy: 0.7684\n",
            "Epoch 18/120\n",
            "8/9 [=========================>....] - ETA: 7s - loss: 0.3832 - accuracy: 0.8258 "
          ]
        }
      ],
      "source": [
        "re = model.fit_generator(train_generator, epochs = 120, verbose =1, validation_data= validation_generator )"
      ]
    },
    {
      "cell_type": "code",
      "execution_count": null,
      "metadata": {
        "colab": {
          "background_save": true
        },
        "id": "KjuhUwIpRTTR"
      },
      "outputs": [],
      "source": [
        "import matplotlib.pyplot as plt\n",
        "\n",
        "plt.style.use(\"seaborn-ticks\")\n",
        "plt.plot(re.history['accuracy'])\n",
        "plt.plot(re.history['val_accuracy'])\n",
        "plt.title('model accuracy ')\n",
        "plt.ylabel('accuracy')\n",
        "plt.xlabel('epoch')\n",
        "plt.legend(['Training acc', 'test acc'], loc='upper left')\n",
        "plt.show()\n",
        "\n",
        "\n",
        "#summmerize history for loss\n",
        "plt.plot(re.history['loss'])\n",
        "plt.plot(re.history['val_loss'])\n",
        "plt.title('model loss')\n",
        "plt.ylabel('loss')\n",
        "plt.xlabel('epochs')\n",
        "plt.show()\n",
        "\n",
        "\n",
        "plt.figure()"
      ]
    },
    {
      "cell_type": "code",
      "execution_count": null,
      "metadata": {
        "colab": {
          "background_save": true
        },
        "id": "lzcS6CbLQq4F"
      },
      "outputs": [],
      "source": [
        "file = model.save('Avi_model.h5')"
      ]
    },
    {
      "cell_type": "code",
      "execution_count": null,
      "metadata": {
        "id": "Y3jLbWX1Q3xD"
      },
      "outputs": [],
      "source": [
        "from sklearn.metrics import confusion_matrix, classification_report\n",
        "from sklearn.metrics import roc_auc_score\n",
        "\n",
        "print(\"==============TEST RESULTS============\")\n",
        "test_generator = test_datagen.flow_from_directory(\n",
        "        test_dir,\n",
        "        target_size=(224, 224),\n",
        "        batch_size=batch_size,\n",
        "        class_mode=None,\n",
        "        shuffle=False) \n",
        "test_labels = test_generator.classes\n",
        "test_labels = to_categorical(test_labels, num_classes=num_classes)\n",
        "y_true = [i.argmax() for i in test_labels]\n",
        "\n",
        "predictions = model.predict(test_generator, verbose=1)\n",
        "yPredictions = np.argmax(predictions, axis=1)\n",
        "true_classes = test_generator.classes\n",
        "confusion_mtx = confusion_matrix(true_classes, yPredictions) \n",
        "y_pred_probabilities=yPredictions\n",
        "classnames=[]\n",
        "for classname in test_generator.class_indices:\n",
        "    classnames.append(classname)\n",
        "\n",
        "target_names = classnames\n",
        "print(classification_report(true_classes, yPredictions, target_names=target_names))\n",
        "\n",
        "#print('roc_auc_score = ' + str(roc_auc_score( true_classes, yPredictions)))\n"
      ]
    },
    {
      "cell_type": "code",
      "execution_count": null,
      "metadata": {
        "id": "Cl4SPCmhJdHX"
      },
      "outputs": [],
      "source": [
        "from sklearn.preprocessing import LabelEncoder\n",
        "from sklearn.metrics import confusion_matrix, classification_report\n",
        "\n",
        "test_labels = test_generator.classes\n",
        "test_labels = to_categorical(test_labels, num_classes=num_classes)\n",
        "y_true = [i.argmax() for i in test_labels]\n",
        "\n",
        "\n",
        "y_pred=yPredictions\n",
        "y_pred_probabilities=y_pred\n",
        "\n",
        "# y_pred = np.argmax(y_pred,axis = 1) \n",
        "y_actual = y_true\n",
        "\n",
        "classnames=[]\n",
        "for classname in test_generator.class_indices:\n",
        "    classnames.append(classname)\n",
        "\n",
        "confusion_mtx = confusion_matrix(y_actual, y_pred) \n",
        "print(confusion_mtx)\n",
        "target_names = classnames\n",
        "print(classification_report(y_actual, y_pred, target_names=target_names))"
      ]
    },
    {
      "cell_type": "code",
      "execution_count": null,
      "metadata": {
        "id": "sPyB3epFJkCy"
      },
      "outputs": [],
      "source": [
        "print('roc_auc_score = ' + str(roc_auc_score(y_pred, y_true)))"
      ]
    }
  ],
  "metadata": {
    "accelerator": "GPU",
    "colab": {
      "collapsed_sections": [],
      "name": "DATASET",
      "provenance": []
    },
    "gpuClass": "standard",
    "kernelspec": {
      "display_name": "Python 3",
      "name": "python3"
    },
    "language_info": {
      "name": "python"
    }
  },
  "nbformat": 4,
  "nbformat_minor": 0
}